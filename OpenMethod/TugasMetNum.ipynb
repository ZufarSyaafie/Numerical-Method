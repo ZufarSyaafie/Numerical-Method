{
 "cells": [
  {
   "cell_type": "markdown",
   "metadata": {},
   "source": [
    "# **<center> Tugas Metode Numeris <center>**"
   ]
  },
  {
   "cell_type": "markdown",
   "metadata": {},
   "source": [
    "## Import Library"
   ]
  },
  {
   "cell_type": "code",
   "execution_count": 2,
   "metadata": {},
   "outputs": [],
   "source": [
    "import numpy as np"
   ]
  },
  {
   "cell_type": "markdown",
   "metadata": {},
   "source": [
    "## Definisikan Fungsi Masalah"
   ]
  },
  {
   "cell_type": "markdown",
   "metadata": {
    "vscode": {
     "languageId": "latex"
    }
   },
   "source": [
    "$$\n",
    "f(x) = \\sin(x) - x^2 + 0.5\n",
    "$$"
   ]
  },
  {
   "cell_type": "code",
   "execution_count": 3,
   "metadata": {},
   "outputs": [],
   "source": [
    "def f(x):\n",
    "    return np.sin(x) - x**2 + 0.5\n",
    "\n",
    "def g(x):\n",
    "    return np.cos(x) - 2*x\n",
    "\n",
    "\n",
    "def h(x):\n",
    "    return np.arcsin(x**2-0.5)"
   ]
  },
  {
   "cell_type": "code",
   "execution_count": 4,
   "metadata": {},
   "outputs": [],
   "source": [
    "A = np.linspace(0, 20, 6)\n",
    "b = np.array([67, 84, 98, 125, 149, 185])\n",
    "\n",
    "def exp_func(c):\n",
    "    sum_yx_exp_cx = np.sum(b * A * np.exp(c * A))\n",
    "    sum_y_exp_cx = np.sum(b * np.exp(c * A))\n",
    "    sum_exp_2cx = np.sum(np.exp(2 * c * A))\n",
    "    sum_x_exp_2cx = np.sum(A * np.exp(2 * c * A))\n",
    "\n",
    "    second_term = (sum_y_exp_cx / sum_exp_2cx) * sum_x_exp_2cx\n",
    "\n",
    "    result = sum_yx_exp_cx - second_term\n",
    "    return result"
   ]
  },
  {
   "cell_type": "markdown",
   "metadata": {},
   "source": [
    "## Metode Bisection"
   ]
  },
  {
   "cell_type": "code",
   "execution_count": 5,
   "metadata": {},
   "outputs": [],
   "source": [
    "def my_bisection(f, a, b, tol):\n",
    "    \"\"\"\n",
    "    Find the root of a function f in the interval [a, b] using the bisection method.\n",
    "\n",
    "    Parameters\n",
    "    ----------\n",
    "    f : function\n",
    "        The function to find the root of.\n",
    "    a : float\n",
    "        The lower bound of the interval.\n",
    "    b : float\n",
    "        The upper bound of the interval.\n",
    "    tol : float\n",
    "        The desired accuracy of the root.\n",
    "\n",
    "    Returns\n",
    "    -------\n",
    "    float\n",
    "        The root of the function.\n",
    "\n",
    "    Raises\n",
    "    ------\n",
    "    Exception\n",
    "        If the scalars a and b do not bound a root.\n",
    "\n",
    "    \"\"\"\n",
    "    print(f\"{'Iterasi':>8} | {'xl':>20} | {'xu':>20} | {'xr':>20} | {'Error':>25}\")\n",
    "    print(\"-\" * 105)\n",
    "\n",
    "\n",
    "    if np.sign(f(a)) == np.sign(f(b)):\n",
    "        raise Exception(\"The scalars a and b do not bound a root\")\n",
    "\n",
    "    m_old = None  # m pertama kali belum ada nilainya\n",
    "    iter_count = 1\n",
    "\n",
    "    while True:\n",
    "        m = (a + b) / 2\n",
    "\n",
    "        if m_old is None:  # Pada iterasi pertama, set error ke infinity\n",
    "            error = float('inf')\n",
    "        else:\n",
    "            error = np.abs(m - m_old) / np.abs(m)\n",
    "\n",
    "        print(f\"{iter_count:>8} | {a:>20} | {b:>20} | {m:>20} | {error:>25}\")\n",
    "\n",
    "        if error < tol and iter_count > 1:  # Abaikan error pada iterasi pertama\n",
    "            return m\n",
    "\n",
    "        m_old = m\n",
    "\n",
    "        if np.sign(f(a)) == np.sign(f(m)):\n",
    "            a = m\n",
    "        else:\n",
    "            b = m\n",
    "\n",
    "        iter_count += 1"
   ]
  },
  {
   "cell_type": "code",
   "execution_count": 6,
   "metadata": {},
   "outputs": [
    {
     "name": "stdout",
     "output_type": "stream",
     "text": [
      " Iterasi |                   xl |                   xu |                   xr |                     Error\n",
      "---------------------------------------------------------------------------------------------------------\n",
      "       1 |                    0 |                    2 |                  1.0 |                       inf\n",
      "       2 |                  1.0 |                    2 |                  1.5 |        0.3333333333333333\n",
      "       3 |                  1.0 |                  1.5 |                 1.25 |                       0.2\n",
      "       4 |                  1.0 |                 1.25 |                1.125 |        0.1111111111111111\n",
      "       5 |                1.125 |                 1.25 |               1.1875 |       0.05263157894736842\n",
      "       6 |               1.1875 |                 1.25 |              1.21875 |       0.02564102564102564\n",
      "       7 |               1.1875 |              1.21875 |             1.203125 |      0.012987012987012988\n",
      "       8 |               1.1875 |             1.203125 |            1.1953125 |      0.006535947712418301\n",
      "       9 |            1.1953125 |             1.203125 |           1.19921875 |      0.003257328990228013\n",
      "      10 |            1.1953125 |           1.19921875 |          1.197265625 |     0.0016313213703099511\n",
      "      11 |            1.1953125 |          1.197265625 |         1.1962890625 |     0.0008163265306122449\n"
     ]
    },
    {
     "data": {
      "text/plain": [
       "1.1962890625"
      ]
     },
     "execution_count": 6,
     "metadata": {},
     "output_type": "execute_result"
    }
   ],
   "source": [
    "my_bisection(f, 0, 2, 0.001)"
   ]
  },
  {
   "cell_type": "markdown",
   "metadata": {},
   "source": [
    "## Metode Regula Falsi"
   ]
  },
  {
   "cell_type": "code",
   "execution_count": 7,
   "metadata": {},
   "outputs": [],
   "source": [
    "def regular_falsi(f, a, b, tol):\n",
    "    \"\"\"\n",
    "    Regular Falsi method to find the root of a non-linear equation.\n",
    "\n",
    "    Parameters\n",
    "    ----------\n",
    "    f : function\n",
    "        The function for which the root is to be found.\n",
    "    a : float\n",
    "        The lower limit of the bracket.\n",
    "    b : float\n",
    "        The upper limit of the bracket.\n",
    "    tol : float\n",
    "        The tolerance for the root.\n",
    "\n",
    "    Returns\n",
    "    -------\n",
    "    float\n",
    "        The root of the equation.\n",
    "\n",
    "    Notes\n",
    "    -----\n",
    "    The regular falsi method is a modification of the bisection method.\n",
    "    Instead of bisecting the interval, it uses the secant method to\n",
    "    approximate the root. The method is more efficient than the bisection\n",
    "    method but may not converge for all functions.\n",
    "    \"\"\"\n",
    "    print(f\"{'Iterasi':>8} | {'xl':>20} | {'xu':>20} | {'xr':>20} | {'Error':>25}\")\n",
    "    print(\"-\" * 105)\n",
    "    step = 1\n",
    "    condition = True\n",
    "    m = m = b - (a-b) * f(b)/( f(a) - f(b) )\n",
    "    while condition:\n",
    "        m_old = m\n",
    "        m = b - (a-b) * f(b)/( f(a) - f(b) )\n",
    "        if step > 1 :\n",
    "            error= abs(m - m_old) / abs(m) \n",
    "        else:\n",
    "            error = np.inf\n",
    "\n",
    "        print(f\"{step:>8} | {a:>20} | {b:>20} | {m:>20} | {error:>25}\")\n",
    "\n",
    "        if f(a) * f(m) < 0:\n",
    "            b = m\n",
    "        else:\n",
    "            a = m\n",
    "\n",
    "        step = step + 1\n",
    "        condition = error > tol\n",
    "\n",
    "    return m\n"
   ]
  },
  {
   "cell_type": "code",
   "execution_count": 8,
   "metadata": {},
   "outputs": [
    {
     "name": "stdout",
     "output_type": "stream",
     "text": [
      " Iterasi |                   xl |                   xu |                   xr |                     Error\n",
      "---------------------------------------------------------------------------------------------------------\n",
      "       1 |                    0 |                    2 |   0.3235510296847963 |                       inf\n",
      "       2 |   0.3235510296847963 |                    2 |   0.6854591643992791 |        0.5279791321072363\n",
      "       3 |   0.6854591643992791 |                    2 |   0.9533763890509503 |       0.28101936205738487\n",
      "       4 |   0.9533763890509503 |                    2 |   1.0953106519233242 |       0.12958356848182082\n",
      "       5 |   1.0953106519233242 |                    2 |   1.1569338164329626 |       0.05326420892392424\n",
      "       6 |   1.1569338164329626 |                    2 |   1.1812919900232455 |      0.020619943075888963\n",
      "       7 |   1.1812919900232455 |                    2 |   1.1905548509227786 |     0.0077802890747567105\n",
      "       8 |   1.1905548509227786 |                    2 |    1.194024950729844 |      0.002906220514859657\n",
      "       9 |    1.194024950729844 |                    2 |   1.1953176137668615 |     0.0010814389599296142\n",
      "      10 |   1.1953176137668615 |                    2 |    1.195798134717781 |    0.00040184119456998215\n"
     ]
    },
    {
     "data": {
      "text/plain": [
       "1.195798134717781"
      ]
     },
     "execution_count": 8,
     "metadata": {},
     "output_type": "execute_result"
    }
   ],
   "source": [
    "regular_falsi(f,0, 2, 0.001)"
   ]
  },
  {
   "cell_type": "markdown",
   "metadata": {},
   "source": [
    "## Metode Simple Fixed Point Iteration"
   ]
  },
  {
   "cell_type": "code",
   "execution_count": 9,
   "metadata": {},
   "outputs": [],
   "source": [
    "def fixedPointIteration(f, a, tol, N=100):\n",
    "    \"\"\"\n",
    "    Find the root of an equation using the Fixed Point Iteration method.\n",
    "\n",
    "    Parameters\n",
    "    ----------\n",
    "    f : function\n",
    "        The function for which to find the root.\n",
    "    a : float\n",
    "        The initial guess for the root.\n",
    "    tol : float\n",
    "        The desired accuracy of the root.\n",
    "    N : int, optional\n",
    "        The maximum number of iterations. Default is 100.\n",
    "\n",
    "    Returns\n",
    "    -------\n",
    "    float\n",
    "        The root of the equation.\n",
    "\n",
    "    Notes\n",
    "    -----\n",
    "    The function `f` should take a single argument, and should return a single\n",
    "    value. The function should be continuous in the region of the root.\n",
    "    \"\"\"\n",
    "\n",
    "    print(f\"{'Iterasi':>8} | {'xi':>20} | {'error':>20}\")\n",
    "    print(\"-\" * 55)\n",
    "    \n",
    "    step = 1\n",
    "    flag = 1\n",
    "    condition = True\n",
    "    a_old=None\n",
    "    while condition:\n",
    "        if a_old is None:\n",
    "            error = np.inf\n",
    "        else:\n",
    "            error= abs(a_old- a) / abs(a_old) \n",
    "            a = a_old\n",
    "\n",
    "        print(f\"{step:>8} | {a:>20} | {error:>20}\")\n",
    "        a_old = f(a)\n",
    "\n",
    "        step = step + 1\n",
    "        \n",
    "        if step > N:\n",
    "            flag=0\n",
    "            break\n",
    "        \n",
    "        condition = error > tol\n",
    "\n",
    "    if flag==1:\n",
    "        print('\\nRequired root is: %0.8f' % a_old)\n",
    "    else:\n",
    "        print('\\nNot Convergent.')\n",
    "\n",
    "    return a_old"
   ]
  },
  {
   "cell_type": "code",
   "execution_count": 10,
   "metadata": {},
   "outputs": [
    {
     "name": "stdout",
     "output_type": "stream",
     "text": [
      " Iterasi |                   xi |                error\n",
      "-------------------------------------------------------\n",
      "       1 |                    1 |                  inf\n",
      "       2 |   0.5235987755982989 |   0.9098593171027438\n",
      "       3 | -0.22780966438754494 |   3.2984045782516227\n",
      "       4 | -0.46464196892049614 |   0.5097092393164231\n",
      "       5 |    -0.28807579657455 |   0.6129156786007646\n",
      "       6 |  -0.4301557132963552 |   0.3302988018757743\n",
      "       7 |  -0.3204208961969517 |  0.34247085131412064\n",
      "       8 | -0.40860597232660517 |  0.21581935189915866\n",
      "       9 |  -0.3395270291477253 |   0.2034563885893874\n",
      "      10 |  -0.3949059686326181 |    0.140233229891777\n",
      "      11 | -0.35122605913631694 |  0.12436409076169445\n",
      "      12 |  -0.3861667850138658 |  0.09048091973082119\n",
      "      13 | -0.35850557642576303 |   0.0771569827835877\n",
      "      14 |  -0.3805958535689498 | 0.058041297444626126\n",
      "      15 |  -0.3630710957394681 | 0.048268116176499745\n",
      "      16 | -0.37705008679011925 |   0.0370746262642618\n",
      "      17 | -0.36594644587130487 | 0.030342256480663524\n",
      "      18 | -0.37479653820398895 | 0.023613057834240923\n",
      "      19 | -0.36776154502171615 | 0.019129224568211405\n",
      "      20 |  -0.3733658439063824 | 0.015010207752349881\n",
      "      21 | -0.36890889148243333 | 0.012081444841405475\n",
      "      22 |  -0.3724582489805446 | 0.009529544607553184\n",
      "      23 |  -0.3696347258465744 | 0.007638684724503218\n",
      "      24 | -0.37188279307219213 | 0.0060450961095726286\n",
      "      25 |  -0.3700941277270992 | 0.004833001150485293\n",
      "      26 | -0.37151805251184433 | 0.0038327203082540034\n",
      "      27 | -0.37038498441717543 | 0.0030591631473717924\n",
      "      28 |  -0.3712869204549271 | 0.002429215757577904\n",
      "      29 |  -0.3705691663319765 | 0.001936896504518147\n",
      "      30 |  -0.3711404754009183 | 0.0015393337746972206\n",
      "      31 | -0.37068581131717193 | 0.0012265483864376064\n",
      "      32 | -0.37104769636248136 | 0.0009753060020507414\n",
      "\n",
      "Required root is: -0.37075969\n"
     ]
    },
    {
     "data": {
      "text/plain": [
       "-0.37075968969468565"
      ]
     },
     "execution_count": 10,
     "metadata": {},
     "output_type": "execute_result"
    }
   ],
   "source": [
    "fixedPointIteration(h, 1, 0.001)"
   ]
  },
  {
   "cell_type": "markdown",
   "metadata": {},
   "source": [
    "## Metode Newton Raphson"
   ]
  },
  {
   "cell_type": "code",
   "execution_count": 11,
   "metadata": {},
   "outputs": [],
   "source": [
    "def newtonRaphson(f,g,a,tol,N=100):\n",
    "    \"\"\"\n",
    "    Finds the root of f(x) using Newton Raphson method\n",
    "    \n",
    "    Parameters\n",
    "    ----------\n",
    "    f : function\n",
    "        The function to find the root of\n",
    "    g : function\n",
    "        The derivative of f\n",
    "    a : float\n",
    "        The initial guess\n",
    "    tol : float\n",
    "        The tolerance of the root\n",
    "    N : int, optional\n",
    "        The maximum number of iterations. Default is 100.\n",
    "    \n",
    "    Returns\n",
    "    -------\n",
    "    float\n",
    "        The root of f(x)\n",
    "    \"\"\"\n",
    "\n",
    "    print(f\"{'Iterasi':>8} | {'xi':>20} | {'xi+1':>20} | {'error':>20}\")\n",
    "    print(\"-\" * 80)\n",
    "    step = 1\n",
    "    flag = 1\n",
    "    condition = True\n",
    "    while condition:\n",
    "        if g(a) == 0.0:\n",
    "            print('Divide by zero error!')\n",
    "            break\n",
    "        \n",
    "        b = a - f(a)/g(a)\n",
    "        error= abs(b- a) / abs(b) \n",
    "        print(f\"{step:>8} | {a:>20} | {b:>20} | {error:>20}\")\n",
    "        a = b\n",
    "        step = step + 1\n",
    "        \n",
    "        if step > N:\n",
    "            flag = 0\n",
    "            break\n",
    "        \n",
    "        condition = error > tol\n",
    "\n",
    "    return b"
   ]
  },
  {
   "cell_type": "code",
   "execution_count": 12,
   "metadata": {},
   "outputs": [
    {
     "name": "stdout",
     "output_type": "stream",
     "text": [
      " Iterasi |                   xi |                 xi+1 |                error\n",
      "--------------------------------------------------------------------------------\n",
      "       1 |                    0 |                 -0.5 |                  1.0\n",
      "       2 |                 -0.5 |    -0.37780801587057 |  0.32342348228866247\n",
      "       3 |    -0.37780801587057 |  -0.3709105514033993 | 0.018596031957228105\n",
      "       4 |  -0.3709105514033993 | -0.37088734037553595 | 6.258242149716885e-05\n"
     ]
    },
    {
     "data": {
      "text/plain": [
       "-0.37088734037553595"
      ]
     },
     "execution_count": 12,
     "metadata": {},
     "output_type": "execute_result"
    }
   ],
   "source": [
    "newtonRaphson(f,g,0,0.001)"
   ]
  },
  {
   "cell_type": "code",
   "execution_count": 13,
   "metadata": {},
   "outputs": [
    {
     "name": "stdout",
     "output_type": "stream",
     "text": [
      " Iterasi |                   xi |                 xi+1 |                error\n",
      "--------------------------------------------------------------------------------\n",
      "       1 |                    2 |   1.4133567861163074 |  0.41507085800726945\n",
      "       2 |   1.4133567861163074 |   1.2223605259485244 |    0.156251986311137\n",
      "       3 |   1.2223605259485244 |   1.1965641529553526 | 0.021558704503605815\n",
      "       4 |   1.1965641529553526 |    1.196082201285628 | 0.0004029419292474218\n"
     ]
    },
    {
     "data": {
      "text/plain": [
       "1.196082201285628"
      ]
     },
     "execution_count": 13,
     "metadata": {},
     "output_type": "execute_result"
    }
   ],
   "source": [
    "newtonRaphson(f,g,2,0.001)"
   ]
  },
  {
   "cell_type": "markdown",
   "metadata": {},
   "source": [
    "## Metode Secant"
   ]
  },
  {
   "cell_type": "code",
   "execution_count": 14,
   "metadata": {},
   "outputs": [],
   "source": [
    "def secant(f,a,b,e,N=100):\n",
    "    \"\"\"\n",
    "    Secant method for finding roots of a function.\n",
    "\n",
    "    Parameters\n",
    "    ----------\n",
    "    f : function\n",
    "        The function to find the root of.\n",
    "    a : float\n",
    "        The lower bound of the initial interval.\n",
    "    b : float\n",
    "        The upper bound of the initial interval.\n",
    "    e : float\n",
    "        The desired accuracy of the root.\n",
    "    N : int, optional\n",
    "        The maximum number of iterations. Default is 100.\n",
    "\n",
    "    Returns\n",
    "    -------\n",
    "    float\n",
    "        The root of the function.\n",
    "\n",
    "    Notes\n",
    "    -----\n",
    "    The secant method is a root-finding algorithm that uses the slope of the\n",
    "    function at two points to approximate the root. The algorithm starts with\n",
    "    an interval [a, b] containing the root, and uses the slope of the function\n",
    "    at a and b to approximate the root. The algorithm iterates until the\n",
    "    desired accuracy is reached or the maximum number of iterations is reached.\n",
    "    \"\"\"\n",
    "    print(f\"{'Iterasi':>8} | {'xi-1':>20} | {'xi':>20} | {'xi+1':>20} | {'error':>20}\")\n",
    "    print(\"-\" * 105)\n",
    "    step = 1\n",
    "    condition = True\n",
    "    while condition:\n",
    "        if f(a) == f(b):\n",
    "            print('Divide by zero error!')\n",
    "            break\n",
    "        \n",
    "        m = a - (b-a)*f(a)/( f(b) - f(a) ) \n",
    "        error= abs(m- a) / abs(m)\n",
    "        print(f\"{step:>8} | {a:>20} | {m:>20} | {b:>20} | {error:>20}\")\n",
    "        a = b\n",
    "        b = m\n",
    "        step = step + 1\n",
    "        \n",
    "        if step > N:\n",
    "            print('Not Convergent!')\n",
    "            break\n",
    "        \n",
    "        condition = error > e\n",
    "    return m"
   ]
  },
  {
   "cell_type": "code",
   "execution_count": 15,
   "metadata": {},
   "outputs": [
    {
     "name": "stdout",
     "output_type": "stream",
     "text": [
      " Iterasi |                 xi-1 |                   xi |                 xi+1 |                error\n",
      "---------------------------------------------------------------------------------------------------------\n",
      "       1 |                   -2 | -0.20369513456971244 |                    0 |     8.81859485365136\n",
      "       2 |                    0 | -0.41778277958994275 | -0.20369513456971244 |                  1.0\n",
      "       3 | -0.20369513456971244 |  -0.3667082223143116 | -0.41778277958994275 |   0.4445307681289949\n",
      "       4 | -0.41778277958994275 | -0.37079417270488946 |  -0.3667082223143116 |  0.12672423232080013\n",
      "       5 |  -0.3667082223143116 |  -0.3708875311315772 | -0.37079417270488946 | 0.011268399356846853\n",
      "       6 | -0.37079417270488946 | -0.37088734010328567 |  -0.3708875311315772 | 0.00025120134424179734\n"
     ]
    },
    {
     "data": {
      "text/plain": [
       "-0.37088734010328567"
      ]
     },
     "execution_count": 15,
     "metadata": {},
     "output_type": "execute_result"
    }
   ],
   "source": [
    "secant(f,-2, 0, 0.001)"
   ]
  },
  {
   "cell_type": "code",
   "execution_count": 29,
   "metadata": {},
   "outputs": [
    {
     "name": "stdout",
     "output_type": "stream",
     "text": [
      " Iterasi |                 xi-1 |                   xi |                 xi+1 |                error\n",
      "---------------------------------------------------------------------------------------------------------\n",
      "       1 |                    0 | 6.900534653247886e-14 |                    2 |                  1.0\n",
      "       2 |                    2 | 1.3811174426336947e-13 | 6.900534653247886e-14 |   14481027740740.145\n",
      "       3 | 6.900534653247886e-14 |   0.1060110476655799 | 1.3811174426336947e-13 |   0.9999999999993491\n",
      "       4 | 1.3811174426336947e-13 |  0.03186472518490475 |   0.1060110476655799 |   0.9999999999956657\n",
      "       5 |   0.1060110476655799 |  0.04477768617149458 |  0.03186472518490475 |   1.3674972230491533\n",
      "       6 |  0.03186472518490475 |  0.05132903993792878 |  0.04477768617149458 |   0.3792066786474451\n",
      "       7 |  0.04477768617149458 |  0.05044906599876113 |  0.05132903993792878 |  0.11241793509925084\n",
      "       8 |  0.05132903993792878 |  0.05048191259140899 |  0.05044906599876113 | 0.016780809264820905\n",
      "       9 |  0.05044906599876113 | 0.050482096467232423 |  0.05048191259140899 | 0.0006543006487999705\n"
     ]
    },
    {
     "data": {
      "text/plain": [
       "0.050482096467232423"
      ]
     },
     "execution_count": 29,
     "metadata": {},
     "output_type": "execute_result"
    }
   ],
   "source": [
    "secant(exp_func,0, 2, 0.001)"
   ]
  },
  {
   "cell_type": "markdown",
   "metadata": {},
   "source": [
    "## Modified Secant Method"
   ]
  },
  {
   "cell_type": "code",
   "execution_count": 17,
   "metadata": {},
   "outputs": [],
   "source": [
    "def mod_secant(f,a,delta,e,N=100):\n",
    "    \"\"\"\n",
    "    Modified Secant method for finding roots of a function.\n",
    "\n",
    "    Parameters\n",
    "    ----------\n",
    "    f : function\n",
    "        The function to find the root of.\n",
    "    a : float\n",
    "        The lower bound of the initial interval.\n",
    "    delta : float\n",
    "        The upper bound of the initial interval.\n",
    "    e : float\n",
    "        The desired accuracy of the root.\n",
    "    N : int, optional\n",
    "        The maximum number of iterations. Default is 100.\n",
    "\n",
    "    Returns\n",
    "    -------\n",
    "    float\n",
    "        The root of the function.\n",
    "\n",
    "    Notes\n",
    "    ------\n",
    "    The secant method is a root-finding algorithm that uses the slope of the\n",
    "    function at two points to approximate the root. The algorithm starts with\n",
    "    an interval [a, b] containing the root, and uses the slope of the function\n",
    "    at a and b to approximate the root. The algorithm iterates until the\n",
    "    desired accuracy is reached or the maximum number of iterations is reached.\n",
    "    \n",
    "    \"\"\"\n",
    "    print(f\"{'Iterasi':>8} | {'xi-1':>20} | {'xi+1':>20} | {'error':>20}\")\n",
    "    print(\"-\" * 80)\n",
    "    step = 1\n",
    "    condition = True\n",
    "    while condition:\n",
    "        if f(a+delta) == f(a):\n",
    "            print('Divide by zero error!')\n",
    "            break\n",
    "        \n",
    "        m = a - delta*f(a)/(f(a+delta) - f(a)) \n",
    "        error= abs(m- a) / abs(m)\n",
    "        print(f\"{step:>8} | {a:>20} | {m:>20} | {error:>20}\")\n",
    "        a = m\n",
    "        step = step + 1\n",
    "\n",
    "        if step > N:\n",
    "            print('Not Convergent!')\n",
    "            break\n",
    "        \n",
    "        condition = error > e\n",
    "    \n",
    "    return m"
   ]
  },
  {
   "cell_type": "code",
   "execution_count": 28,
   "metadata": {},
   "outputs": [
    {
     "name": "stdout",
     "output_type": "stream",
     "text": [
      " Iterasi |                 xi-1 |                 xi+1 |                error\n",
      "--------------------------------------------------------------------------------\n",
      "       1 |                    0 |  0.03329563695083663 |                  1.0\n",
      "       2 |  0.03329563695083663 |  0.04333835367409165 |    0.231728154668199\n",
      "       3 |  0.04333835367409165 | 0.047339001531566165 |  0.08451060918145564\n",
      "       4 | 0.047339001531566165 |   0.0490670236488308 |  0.03521758583997207\n",
      "       5 |   0.0490670236488308 |  0.04983861228138454 | 0.015481743917696019\n",
      "       6 |  0.04983861228138454 |  0.05018817070251559 | 0.006964956407816084\n",
      "       7 |  0.05018817070251559 |  0.05034756701717799 | 0.003165918913380965\n",
      "       8 |  0.05034756701717799 |  0.05042046556541182 | 0.001445812675792431\n",
      "       9 |  0.05042046556541182 | 0.050453850044967025 | 0.0006616834894750652\n"
     ]
    },
    {
     "data": {
      "text/plain": [
       "0.050453850044967025"
      ]
     },
     "execution_count": 28,
     "metadata": {},
     "output_type": "execute_result"
    }
   ],
   "source": [
    "mod_secant(exp_func,0, 0.1, 0.001)"
   ]
  },
  {
   "cell_type": "code",
   "execution_count": 19,
   "metadata": {},
   "outputs": [
    {
     "name": "stdout",
     "output_type": "stream",
     "text": [
      " Iterasi |                 xi-1 |                 xi+1 |                error\n",
      "--------------------------------------------------------------------------------\n",
      "       1 |                    2 |   1.4152818844542523 |   0.4131460467122571\n",
      "       2 |   1.4152818844542523 |   1.2238422576726502 |  0.15642508303779115\n",
      "       3 |   1.2238422576726502 |    1.196807659702185 | 0.022588924587257794\n",
      "       4 |    1.196807659702185 |   1.1960876181677065 | 0.0006019973148636158\n"
     ]
    },
    {
     "data": {
      "text/plain": [
       "1.1960876181677065"
      ]
     },
     "execution_count": 19,
     "metadata": {},
     "output_type": "execute_result"
    }
   ],
   "source": [
    "mod_secant(f,2, 0.01, 0.001)"
   ]
  },
  {
   "cell_type": "markdown",
   "metadata": {},
   "source": [
    "## Modified Newton-Raphson Method"
   ]
  },
  {
   "cell_type": "code",
   "execution_count": 20,
   "metadata": {},
   "outputs": [],
   "source": [
    "def mod_newtonRaphson(f,g,a,tol,N=100):\n",
    "    \"\"\"\n",
    "    Finds the root of f(x) using Newton Raphson method\n",
    "    \n",
    "    Parameters\n",
    "    ----------\n",
    "    f : function\n",
    "        The function to find the root of\n",
    "    g : function\n",
    "        The derivative of f\n",
    "    a : float\n",
    "        The initial guess\n",
    "    tol : float\n",
    "        The tolerance of the root\n",
    "    N : int, optional\n",
    "        The maximum number of iterations\n",
    "    \n",
    "    Returns\n",
    "    -------\n",
    "    float\n",
    "        The root of f(x)\n",
    "    \n",
    "    Notes\n",
    "    ------\n",
    "    The function `f` and `g` should take a single argument, and should return a single value.\n",
    "    The function `f` should be continuous in the region of the root.\n",
    "    \"\"\"\n",
    "\n",
    "    print(f\"{'Iterasi':>8} | {'xi':>20} | {'xi+1':>20} | {'error':>20}\")\n",
    "    print(\"-\" * 80)\n",
    "    step = 1\n",
    "    flag = 1\n",
    "    condition = True\n",
    "    while condition:\n",
    "        if g(a) == 0.0:\n",
    "            print('Divide by zero error!')\n",
    "            break\n",
    "        \n",
    "        b = a - f(a)*g(a)/(g(a)**2-f(a)*g(a))\n",
    "        error= abs(b- a) / abs(b) \n",
    "        print(f\"{step:>8} | {a:>20} | {b:>20} | {error:>20}\")\n",
    "        a = b\n",
    "        step = step + 1\n",
    "        \n",
    "        if step > N:\n",
    "            flag = 0\n",
    "            break\n",
    "        \n",
    "        condition = error > tol\n",
    "\n",
    "    return b"
   ]
  },
  {
   "cell_type": "code",
   "execution_count": 21,
   "metadata": {},
   "outputs": [
    {
     "name": "stdout",
     "output_type": "stream",
     "text": [
      " Iterasi |                   xi |                 xi+1 |                error\n",
      "--------------------------------------------------------------------------------\n",
      "       1 |                    0 |                 -1.0 |                  1.0\n",
      "       2 |                 -1.0 |   -0.654417998075753 |   0.5280753324945133\n",
      "       3 |   -0.654417998075753 |  -0.4509621248977419 |  0.45115955851978873\n",
      "       4 |  -0.4509621248977419 |  -0.3792528573724579 |  0.18908036190445765\n",
      "       5 |  -0.3792528573724579 | -0.37099003200763886 |  0.02227236489375246\n",
      "       6 | -0.37099003200763886 |  -0.3708873558134567 | 0.00027683929520040337\n"
     ]
    },
    {
     "data": {
      "text/plain": [
       "-0.3708873558134567"
      ]
     },
     "execution_count": 21,
     "metadata": {},
     "output_type": "execute_result"
    }
   ],
   "source": [
    "mod_newtonRaphson(f,g,0, 0.001)"
   ]
  },
  {
   "cell_type": "code",
   "execution_count": 22,
   "metadata": {},
   "outputs": [
    {
     "name": "stdout",
     "output_type": "stream",
     "text": [
      " Iterasi |                   xi |                 xi+1 |                error\n",
      "--------------------------------------------------------------------------------\n",
      "       1 |                    2 |   0.5807824291564252 |   2.4436303503619414\n",
      "       2 |   0.5807824291564252 |    1.266836188597014 |   0.5415489118607942\n",
      "       3 |    1.266836188597014 |   1.1945040818612478 |  0.06055408921086324\n",
      "       4 |   1.1945040818612478 |    1.196081346190124 | 0.001318693192482551\n",
      "       5 |    1.196081346190124 |   1.1960820332970041 | 5.744646779498571e-07\n"
     ]
    },
    {
     "data": {
      "text/plain": [
       "1.1960820332970041"
      ]
     },
     "execution_count": 22,
     "metadata": {},
     "output_type": "execute_result"
    }
   ],
   "source": [
    "mod_newtonRaphson(f,g,2, 0.001)"
   ]
  },
  {
   "cell_type": "markdown",
   "metadata": {},
   "source": [
    "## Brent's Method"
   ]
  },
  {
   "cell_type": "code",
   "execution_count": 23,
   "metadata": {},
   "outputs": [],
   "source": [
    "def brents(f, a, b, e=1e-5, max_iter=50):\n",
    "\n",
    "    \"\"\"\n",
    "    Finds the root of a function f in the interval [a, b] using Brent's method.\n",
    "\n",
    "    Parameters\n",
    "    ----------\n",
    "    f : function\n",
    "        The function to find the root of.\n",
    "    a : float\n",
    "        The lower bound of the interval.\n",
    "    b : float\n",
    "        The upper bound of the interval.\n",
    "    e : float, optional\n",
    "        The desired accuracy of the root. Defaults to 1e-5.\n",
    "    max_iter : int, optional\n",
    "        The maximum number of iterations. Defaults to 50.\n",
    "\n",
    "    Returns\n",
    "    -------\n",
    "    float\n",
    "        The root of the function.\n",
    "    int\n",
    "        The number of iterations taken.\n",
    "\n",
    "    Notes\n",
    "    -----\n",
    "    The function `f` should take a single argument, and should return a single value.\n",
    "    The function should be continuous in the region of the root.\n",
    "    \"\"\"\n",
    "    print(f\"{'Iterasi':>8} | {'xl':>20} | {'xu':>20} | {'xr':>20} | {'Error':>25}\")\n",
    "    print(\"-\" * 105)\n",
    "    fa = f(a)\n",
    "    fb = f(b)\n",
    "    error = np.inf\n",
    "\n",
    "    assert (fa * fb) <= 0, \"Root not bracketed\" \n",
    "\n",
    "    if abs(fa) < abs(fb):\n",
    "        a, b = b, a\n",
    "        fa, fb = fb, fa\n",
    "\n",
    "    x2, fx2 = a, fa\n",
    "    mflag = True\n",
    "    steps_taken = 0\n",
    "\n",
    "    while steps_taken < max_iter and abs(b - a) > e:\n",
    "        fa = f(a)\n",
    "        fb = f(b)\n",
    "        fx2 = f(x2)\n",
    "\n",
    "        if fa != fx2 and fb != fx2:\n",
    "            L0 = (a * fb * fx2) / ((fa - fb) * (fa - fx2))\n",
    "            L1 = (b * fa * fx2) / ((fb - fa) * (fb - fx2))\n",
    "            L2 = (x2 * fb * fa) / ((fx2 - fa) * (fx2 - fb))\n",
    "            new = L0 + L1 + L2\n",
    "        else:\n",
    "            new = b - ((fb * (b - a)) / (fb - fa))\n",
    "\n",
    "        if ((new < ((3 * a + b) / 4) or new > b) or\n",
    "            (mflag == True and (abs(new - b)) >= (abs(b - x2) / 2)) or\n",
    "            (mflag == False and (abs(new - b)) >= (abs(x2 - d) / 2)) or\n",
    "            (mflag == True and (abs(b - x2)) < e) or\n",
    "            (mflag == False and (abs(x2 - d)) < e)):\n",
    "            new = (a + b) / 2\n",
    "            mflag = True\n",
    "        else:\n",
    "            mflag = False\n",
    "\n",
    "        fnew = f(new)\n",
    "        d, x2 = x2, b\n",
    "\n",
    "\n",
    "        if (fa * fnew) < 0:\n",
    "            b = new\n",
    "        else:\n",
    "            a = new\n",
    "\n",
    "        if abs(fa) < abs(fb):\n",
    "            a, b = b, a\n",
    "\n",
    "        # Hitung error\n",
    "        error = abs(b - a)\n",
    "\n",
    "        # Tampilkan iterasi\n",
    "        print(f\"{steps_taken+1:>8} | {a:>20} | {b:>20} | {new:>20} | {error:>25}\")\n",
    "\n",
    "        steps_taken += 1\n",
    "\n",
    "    return b\n"
   ]
  },
  {
   "cell_type": "code",
   "execution_count": 24,
   "metadata": {},
   "outputs": [
    {
     "name": "stdout",
     "output_type": "stream",
     "text": [
      " Iterasi |                   xl |                   xu |                   xr |                     Error\n",
      "---------------------------------------------------------------------------------------------------------\n",
      "       1 |                   -2 |  -0.2036951345697124 |  -0.2036951345697124 |        1.7963048654302876\n",
      "       2 |  -0.4060256049169877 |  -0.2036951345697124 |  -0.4060256049169877 |        0.2023304703472753\n",
      "       3 | -0.30486036974335007 |  -0.4060256049169877 | -0.30486036974335007 |       0.10116523517363762\n",
      "       4 |  -0.3554429873301689 |  -0.4060256049169877 |  -0.3554429873301689 |       0.05058261758681881\n",
      "       5 |  -0.3807342961235783 |  -0.3554429873301689 |  -0.3807342961235783 |      0.025291308793409406\n",
      "       6 |   -0.370884369625688 |  -0.3807342961235783 |   -0.370884369625688 |      0.009849926497890293\n",
      "       7 | -0.37580933287463314 |   -0.370884369625688 | -0.37580933287463314 |      0.004924963248945147\n",
      "       8 | -0.37580933287463314 |  -0.3708873400308677 |  -0.3708873400308677 |     0.0049219928437654326\n",
      "       9 | -0.37580933287463314 |   -0.370887340111992 |   -0.370887340111992 |      0.004921992762641159\n",
      "      10 | -0.37334833649331256 |   -0.370887340111992 | -0.37334833649331256 |     0.0024609963813205793\n",
      "      11 | -0.37211783830265227 |   -0.370887340111992 | -0.37211783830265227 |     0.0012304981906602896\n",
      "      12 | -0.37150258920732215 |   -0.370887340111992 | -0.37150258920732215 |     0.0006152490953301726\n"
     ]
    },
    {
     "data": {
      "text/plain": [
       "-0.370887340111992"
      ]
     },
     "execution_count": 24,
     "metadata": {},
     "output_type": "execute_result"
    }
   ],
   "source": [
    "brents(f, -2, 0, 0.001, 100)"
   ]
  },
  {
   "cell_type": "code",
   "execution_count": 25,
   "metadata": {},
   "outputs": [
    {
     "name": "stdout",
     "output_type": "stream",
     "text": [
      " Iterasi |                   xl |                   xu |                   xr |                     Error\n",
      "---------------------------------------------------------------------------------------------------------\n",
      "       1 |                    2 |                  1.0 |                  1.0 |                       1.0\n",
      "       2 |                  1.5 |                  1.0 |                  1.5 |                       0.5\n",
      "       3 |                 1.25 |                  1.0 |                 1.25 |                      0.25\n",
      "       4 |                1.125 |                 1.25 |                1.125 |                     0.125\n",
      "       5 |                1.125 |   1.1970480507412633 |   1.1970480507412633 |        0.0720480507412633\n",
      "       6 |     1.19607820360712 |   1.1970480507412633 |     1.19607820360712 |     0.0009698471341432757\n"
     ]
    },
    {
     "data": {
      "text/plain": [
       "1.1970480507412633"
      ]
     },
     "execution_count": 25,
     "metadata": {},
     "output_type": "execute_result"
    }
   ],
   "source": [
    "brents(f, 0, 2, 0.001, 100)"
   ]
  }
 ],
 "metadata": {
  "kernelspec": {
   "display_name": "Python 3",
   "language": "python",
   "name": "python3"
  },
  "language_info": {
   "codemirror_mode": {
    "name": "ipython",
    "version": 3
   },
   "file_extension": ".py",
   "mimetype": "text/x-python",
   "name": "python",
   "nbconvert_exporter": "python",
   "pygments_lexer": "ipython3",
   "version": "3.12.4"
  }
 },
 "nbformat": 4,
 "nbformat_minor": 2
}
