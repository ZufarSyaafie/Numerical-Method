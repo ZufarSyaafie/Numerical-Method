{
 "cells": [
  {
   "cell_type": "markdown",
   "metadata": {},
   "source": [
    "## Importing Libraries\n"
   ]
  },
  {
   "cell_type": "code",
   "execution_count": 1,
   "metadata": {},
   "outputs": [],
   "source": [
    "import numpy as np\n",
    "from math import sqrt"
   ]
  },
  {
   "cell_type": "markdown",
   "metadata": {},
   "source": [
    "## Define Problem Function\n"
   ]
  },
  {
   "cell_type": "markdown",
   "metadata": {
    "vscode": {
     "languageId": "latex"
    }
   },
   "source": [
    "$$\n",
    "\\begin{split}\n",
    "f(R) = \\exp\\left[\\frac{-0.05R}{10}\\right]\\cos\\left[0.05\\sqrt{\\frac{10^4}{5}- \\left(\\frac{R}{10}\\right)^2}\\right] - 0.01\n",
    "\\end{split}\n",
    "$$\n"
   ]
  },
  {
   "cell_type": "code",
   "execution_count": 2,
   "metadata": {},
   "outputs": [],
   "source": [
    "def func(R):\n",
    "    return (\n",
    "        np.exp(-R * 0.05 / 10) * np.cos(sqrt(10**4 / 5 - (R / 10) ** 2) * 0.05) - 0.01\n",
    "    )"
   ]
  },
  {
   "cell_type": "markdown",
   "metadata": {},
   "source": [
    "## Define Bisection Method\n"
   ]
  },
  {
   "cell_type": "code",
   "execution_count": 3,
   "metadata": {},
   "outputs": [],
   "source": [
    "def bisection(f, a, b, tol):\n",
    "    if np.sign(f(a)) == np.sign(f(b)):\n",
    "        raise Exception(\"The scalars a and b do not bound a root\")\n",
    "\n",
    "    iterations = 1\n",
    "    m = (a + b) / 2\n",
    "    error = np.inf\n",
    "\n",
    "    while error > tol:\n",
    "\n",
    "        print(\n",
    "            f\"Iteration-{iterations},\\txl = {a:.6f},\\txu = {b:.6f},\\tx_r = {m:.6f},\\tf(x_r) = {f(m):.6f},\\tError = {error:.6f}\"\n",
    "        )\n",
    "        m_old = m\n",
    "        if np.sign(f(m)) == np.sign(f(a)):\n",
    "            a = m\n",
    "        else:\n",
    "            b = m\n",
    "        m = (a + b) / 2\n",
    "        error = abs(m - m_old) / abs(m)\n",
    "\n",
    "        iterations += 1\n",
    "    print(\n",
    "        f\"Iteration-{iterations},\\txl = {a:.6f},\\txu = {b:.6f},\\tx_r = {m:.6f},\\tf(x_r) = {f(m):.6f},\\tError = {error:.6f}\"\n",
    "    )\n",
    "\n",
    "    # Create a DataFrame from the iterations list\n",
    "    return m"
   ]
  },
  {
   "cell_type": "markdown",
   "metadata": {},
   "source": [
    "## Define False Position Method\n"
   ]
  },
  {
   "cell_type": "code",
   "execution_count": 4,
   "metadata": {},
   "outputs": [],
   "source": [
    "def false_position_custom(xl, xu, err, f):\n",
    "    step = 1\n",
    "    condition = True\n",
    "    x_r = xu - (xl - xu) * f(xu) / (f(xl) - f(xu))  # Inisialisasi x_r pertama\n",
    "\n",
    "    while condition:\n",
    "        # Menyimpan nilai x_r lama\n",
    "        x_r_old = x_r\n",
    "\n",
    "        # Menghitung x_r baru\n",
    "        x_r = xu - (xl - xu) * f(xu) / (f(xl) - f(xu))\n",
    "\n",
    "        # Menghitung error berdasarkan perubahan x_r\n",
    "        error = abs(x_r - x_r_old) / abs(x_r) if step > 1 else np.inf\n",
    "\n",
    "        # Menampilkan hasil iterasi termasuk xl, xu, x_r, f(x_r), dan error\n",
    "        print(\n",
    "            f\"Iteration-{step},\\txl = {xl:.6f},\\txu = {xu:.6f},\\tx_r = {x_r:.6f},\\tf(x_r) = {f(x_r):.6f},\\tError = {error:.6f}\"\n",
    "        )\n",
    "\n",
    "        # Memperbarui batas interval\n",
    "        if f(xl) * f(x_r) < 0:\n",
    "            xu = x_r\n",
    "        else:\n",
    "            xl = x_r\n",
    "\n",
    "        # Memperbarui kondisi perulangan\n",
    "        step += 1\n",
    "        condition = error > err\n",
    "    print(\n",
    "        f\"Iteration-{step},\\txl = {xl:.6f},\\txu = {xu:.6f},\\tx_r = {x_r:.6f},\\tf(x_r) = {f(x_r):.6f},\\tError = {error:.6f}\"\n",
    "    )\n",
    "\n",
    "    return x_r"
   ]
  },
  {
   "cell_type": "markdown",
   "metadata": {},
   "source": [
    "## Call Bisection Method\n"
   ]
  },
  {
   "cell_type": "code",
   "execution_count": 5,
   "metadata": {},
   "outputs": [
    {
     "name": "stdout",
     "output_type": "stream",
     "text": [
      "Iteration-1,\txl = 0.000000,\txu = 400.000000,\tx_r = 200.000000,\tf(x_r) = -0.163092,\tError = inf\n",
      "Iteration-2,\txl = 200.000000,\txu = 400.000000,\tx_r = 300.000000,\tf(x_r) = -0.029503,\tError = 0.333333\n",
      "Iteration-3,\txl = 300.000000,\txu = 400.000000,\tx_r = 350.000000,\tf(x_r) = 0.020915,\tError = 0.142857\n",
      "Iteration-4,\txl = 300.000000,\txu = 350.000000,\tx_r = 325.000000,\tf(x_r) = -0.003155,\tError = 0.076923\n",
      "Iteration-5,\txl = 325.000000,\txu = 350.000000,\tx_r = 337.500000,\tf(x_r) = 0.009150,\tError = 0.037037\n",
      "Iteration-6,\txl = 325.000000,\txu = 337.500000,\tx_r = 331.250000,\tf(x_r) = 0.003067,\tError = 0.018868\n",
      "Iteration-7,\txl = 325.000000,\txu = 331.250000,\tx_r = 328.125000,\tf(x_r) = -0.000026,\tError = 0.009524\n"
     ]
    },
    {
     "data": {
      "text/plain": [
       "328.125"
      ]
     },
     "execution_count": 5,
     "metadata": {},
     "output_type": "execute_result"
    }
   ],
   "source": [
    "bisection(func, 0, 400, 0.01)"
   ]
  },
  {
   "cell_type": "markdown",
   "metadata": {},
   "source": [
    "## Call False Position Method\n"
   ]
  },
  {
   "cell_type": "code",
   "execution_count": 6,
   "metadata": {},
   "outputs": [
    {
     "name": "stdout",
     "output_type": "stream",
     "text": [
      "Iteration-1,\txl = 0.000000,\txu = 400.000000,\tx_r = 363.428484,\tf(x_r) = 0.032985,\tError = inf\n",
      "Iteration-2,\txl = 0.000000,\txu = 363.428484,\tx_r = 345.272549,\tf(x_r) = 0.016527,\tError = 0.052584\n",
      "Iteration-3,\txl = 0.000000,\txu = 345.272549,\tx_r = 336.409001,\tf(x_r) = 0.008098,\tError = 0.026348\n",
      "Iteration-4,\txl = 0.000000,\txu = 336.409001,\tx_r = 332.121403,\tf(x_r) = 0.003923,\tError = 0.012910\n",
      "Iteration-5,\txl = 0.000000,\txu = 332.121403,\tx_r = 330.057061,\tf(x_r) = 0.001890,\tError = 0.006254\n",
      "Iteration-6,\txl = 0.000000,\txu = 330.057061,\tx_r = 330.057061,\tf(x_r) = 0.001890,\tError = 0.006254\n"
     ]
    },
    {
     "data": {
      "text/plain": [
       "330.0570611015365"
      ]
     },
     "execution_count": 6,
     "metadata": {},
     "output_type": "execute_result"
    }
   ],
   "source": [
    "false_position_custom(0, 400, 0.01, func)"
   ]
  }
 ],
 "metadata": {
  "kernelspec": {
   "display_name": "Python 3",
   "language": "python",
   "name": "python3"
  },
  "language_info": {
   "codemirror_mode": {
    "name": "ipython",
    "version": 3
   },
   "file_extension": ".py",
   "mimetype": "text/x-python",
   "name": "python",
   "nbconvert_exporter": "python",
   "pygments_lexer": "ipython3",
   "version": "3.12.5"
  }
 },
 "nbformat": 4,
 "nbformat_minor": 2
}
