{
 "cells": [
  {
   "cell_type": "markdown",
   "metadata": {},
   "source": [
    "# <center> **Gauss Jordan vs Jacobi Iteration vs GEPP vs Gauss Seidel vs LU Decomposition** </center>"
   ]
  },
  {
   "cell_type": "markdown",
   "metadata": {},
   "source": [
    "## Index of contents:\n",
    "\n",
    "- [Importing Libraries](#Importing-Libraries)\n",
    "- [Defining Functions](#Defining-Functions)\n",
    "- [Defining Problem](#Defining-Problem)\n",
    "- [Running Algorithm - Jacobi Iteration](#Running-Algorithm---Jacobi-Iteration)\n",
    "- [Running Algorithm - Gauss Jordan](#Running-Algorithm---Gauss-Jordan)\n",
    "- [Running Algorithm - GEPP](#Running-Algorithm---GEPP)\n",
    "- [Running Algorithm - Gauss Seidel](#Running-Algorithm---Gauss-Seidel)\n",
    "- [Running Algorithm - LU Decomposition](#Running-Algorithm---LU-Decomposition)\n"
   ]
  },
  {
   "cell_type": "markdown",
   "metadata": {},
   "source": [
    "## Importing Libraries"
   ]
  },
  {
   "cell_type": "code",
   "execution_count": 186,
   "metadata": {},
   "outputs": [],
   "source": [
    "import numpy as np\n",
    "import scipy\n",
    "import matplotlib.pyplot as plt\n",
    "from GEPP import * # importing GEPP module"
   ]
  },
  {
   "cell_type": "markdown",
   "metadata": {},
   "source": [
    "## Defining Functions"
   ]
  },
  {
   "cell_type": "markdown",
   "metadata": {},
   "source": [
    "### diagonal_dom"
   ]
  },
  {
   "cell_type": "code",
   "execution_count": 187,
   "metadata": {},
   "outputs": [],
   "source": [
    "def diagonal_dom(A):\n",
    "    \"\"\"\n",
    "    Checks if the matrix is diagonal dominant.\n",
    "\n",
    "    Parameters\n",
    "    ----------\n",
    "    A : numpy array\n",
    "        The matrix to check.\n",
    "\n",
    "    Returns\n",
    "    -------\n",
    "    bool\n",
    "        True if the matrix is diagonal dominant, False otherwise.\n",
    "    \"\"\"\n",
    "    n = A.shape[0]\n",
    "    for i in range(n):\n",
    "        sum = 0\n",
    "        for j in range(n):\n",
    "            if i != j:\n",
    "                sum += abs(A[i, j])\n",
    "        if abs(A[i, i]) <= sum:\n",
    "            return False\n",
    "    return True"
   ]
  },
  {
   "cell_type": "markdown",
   "metadata": {},
   "source": [
    "### round_nearest"
   ]
  },
  {
   "cell_type": "code",
   "execution_count": 188,
   "metadata": {},
   "outputs": [],
   "source": [
    "def round_nearest(value, nearest):\n",
    "    \"\"\"\n",
    "    Rounds a given value to the nearest multiple of another value.\n",
    "\n",
    "    Parameters\n",
    "    ----------\n",
    "    value : float\n",
    "        The value to round.\n",
    "    nearest : float\n",
    "        The value to round to the nearest multiple of.\n",
    "\n",
    "    Returns\n",
    "    -------\n",
    "    float\n",
    "        The rounded value.\n",
    "    \"\"\"\n",
    "    return np.ceil(value / nearest) * nearest"
   ]
  },
  {
   "cell_type": "markdown",
   "metadata": {},
   "source": [
    "### gauss_jordan"
   ]
  },
  {
   "cell_type": "code",
   "execution_count": 189,
   "metadata": {},
   "outputs": [],
   "source": [
    "def gauss_jordan(A, b):\n",
    "    \"\"\"\n",
    "    Solves the linear system Ax=b using the Gauss-Jordan elimination method.\n",
    "\n",
    "    Parameters\n",
    "    ----------\n",
    "    A : numpy array\n",
    "        The matrix of the coefficients of the system.\n",
    "    b : numpy array\n",
    "        The vector of the right-hand side of the system.\n",
    "\n",
    "    Returns\n",
    "    -------\n",
    "    x : numpy array\n",
    "        The solution of the system.\n",
    "    \"\"\"\n",
    "    \n",
    "    x = np.linalg.inv(A) @ b\n",
    "    return x"
   ]
  },
  {
   "cell_type": "code",
   "execution_count": null,
   "metadata": {},
   "outputs": [],
   "source": [
    "def gauss_jordan(A):\n",
    "    n = A.shape[0]\n",
    "\n",
    "    for i in range(n):\n",
    "        A[i] = A[i] / A[i][i]\n",
    "        for j in range(n):\n",
    "            if i != j:\n",
    "                A[j] = A[j] - A[i] * A[j][i]\n",
    "\n",
    "    return A[:,-1]\n"
   ]
  },
  {
   "cell_type": "markdown",
   "metadata": {},
   "source": [
    "### jacobi_iteration"
   ]
  },
  {
   "cell_type": "code",
   "execution_count": 190,
   "metadata": {},
   "outputs": [],
   "source": [
    "def jacobi_iteration(A, b, x = None, tol=1e-6, max_iter=100):\n",
    "    \"\"\"\n",
    "    Jacobi iteration method for solving a system of linear equations.\n",
    "\n",
    "    Parameters:\n",
    "    A (numpy array): coefficient matrix\n",
    "    b (numpy array): right hand side vector\n",
    "    x (numpy array): initial guess, optional\n",
    "    tol (float): error tolerance\n",
    "    max_iter (int): maximum number of iterations\n",
    "\n",
    "    Returns:\n",
    "    x_final (list): list of solution vectors at each iteration\n",
    "    error (list): list of errors at each iteration\n",
    "    num_iter (int): number of iterations\n",
    "    \"\"\"\n",
    "    if x is None:\n",
    "        x = np.zeros_like(b)\n",
    "    \n",
    "    Diag = np.diag(A)\n",
    "    R = A - np.diagflat(Diag)\n",
    "\n",
    "    x_final = [x.tolist()]\n",
    "    error = [np.inf]\n",
    "\n",
    "    for iter in range(max_iter):\n",
    "        x_new = (b - np.dot(R, x)) / Diag\n",
    "        temp_err = abs(np.linalg.norm((x_new - x)/x_new, ord=np.inf))\n",
    "        error.append(temp_err)\n",
    "        x_final.append(x_new.tolist())\n",
    "        if round_nearest(temp_err, tol) <= tol:\n",
    "            return x_final, error, iter+1\n",
    "        \n",
    "        x = x_new\n",
    "        \n",
    "    return x_final, error, iter+1"
   ]
  },
  {
   "cell_type": "markdown",
   "metadata": {},
   "source": [
    "### gauss_seidel"
   ]
  },
  {
   "cell_type": "code",
   "execution_count": 191,
   "metadata": {},
   "outputs": [],
   "source": [
    "def gauss_seidel(A, b, x_init=None, tol=1e-10, max_iter=1000):\n",
    "    \n",
    "    \"\"\"\n",
    "    Gauss-Seidel iteration method for solving a system of linear equations.\n",
    "\n",
    "    Parameters:\n",
    "    A (numpy array): coefficient matrix\n",
    "    b (numpy array): right hand side vector\n",
    "    x (numpy array): initial guess, optional\n",
    "    tol (float): error tolerance\n",
    "    max_iter (int): maximum number of iterations\n",
    "\n",
    "    Returns:\n",
    "    x_final (list): list of solution vectors at each iteration\n",
    "    error (list): list of errors at each iteration\n",
    "    num_iter (int): number of iterations\n",
    "    \"\"\"\n",
    "    n = len(b)\n",
    "    \n",
    "\n",
    "    if x_init is None:\n",
    "        x = np.zeros(n)\n",
    "    else:\n",
    "        x = x_init.copy()\n",
    "    \n",
    "    x_final = [x.tolist()]\n",
    "    error = [np.inf]\n",
    "    \n",
    "    for k in range(max_iter):\n",
    "        x_new = x.copy()\n",
    "        \n",
    "        for i in range(n):\n",
    "            sum1 = np.dot(A[i, :i], x_new[:i])\n",
    "            sum2 = np.dot(A[i, i+1:], x[i+1:])\n",
    "            \n",
    "            x_new[i] = (b[i] - sum1 - sum2) / A[i, i]\n",
    "        \n",
    "            \n",
    "        temp_err = abs(np.linalg.norm((x_new - x)/x_new, ord=np.inf))\n",
    "\n",
    "        error.append(temp_err)\n",
    "        x_final.append(x_new.tolist())\n",
    "        if round_nearest(temp_err, tol) <= tol:\n",
    "            return x_final, error, k + 1\n",
    "        \n",
    "        x = x_new\n",
    "    \n",
    "    return x, error, max_iter"
   ]
  },
  {
   "cell_type": "markdown",
   "metadata": {},
   "source": [
    "## Defining Problem"
   ]
  },
  {
   "cell_type": "markdown",
   "metadata": {},
   "source": [
    "$$3x_1 - 0.1x_2 - 0.2x_3 = 7.85$$ \n",
    "$$0.1x_1 + 7x_2 - 0.3x_3 = -19.3$$\n",
    "$$0.3x_1 - 0.2x_2 + 10x_3 = 71.4 $$"
   ]
  },
  {
   "cell_type": "markdown",
   "metadata": {},
   "source": [
    "Arranging the equations in matrix form:\n",
    "\n",
    "$$A \\cdot \\vec{x} = \\vec{b}$$"
   ]
  },
  {
   "cell_type": "markdown",
   "metadata": {},
   "source": [
    "$$\n",
    "\\begin{bmatrix}\n",
    "3 & -0.1 & -0.2 \\\\\n",
    "0.1 & 7 & -0.3 \\\\\n",
    "0.3 & -0.2 & 10\n",
    "\\end{bmatrix} \\cdot\n",
    "\\begin{bmatrix}\n",
    "x_1 \\\\\n",
    "x_2 \\\\\n",
    "x_3\n",
    "\\end{bmatrix}\n",
    "= \n",
    "\\begin{bmatrix}\n",
    "7.85 \\\\\n",
    "-19.3 \\\\\n",
    "71.4\n",
    "\\end{bmatrix}\n",
    "$$"
   ]
  },
  {
   "cell_type": "code",
   "execution_count": 192,
   "metadata": {},
   "outputs": [
    {
     "name": "stdout",
     "output_type": "stream",
     "text": [
      "Is A diagonally dominant? True\n"
     ]
    }
   ],
   "source": [
    "A = np.array([[3, -0.1, -0.2],\n",
    "              [0.1, 7, -0.3],\n",
    "              [0.3, -0.2, 10]])\n",
    "\n",
    "b = np.array([7.85, -19.3, 71.4])\n",
    "\n",
    "print(f'Is A diagonally dominant? {diagonal_dom(A)}')"
   ]
  },
  {
   "cell_type": "markdown",
   "metadata": {},
   "source": [
    "## Running Algorithm - Jacobi Iteration"
   ]
  },
  {
   "cell_type": "code",
   "execution_count": 193,
   "metadata": {},
   "outputs": [
    {
     "name": "stdout",
     "output_type": "stream",
     "text": [
      "Optimal solution:\n",
      "[[ 0.          0.          0.        ]\n",
      " [ 2.61666667 -2.75714286  7.14      ]\n",
      " [ 3.0007619  -2.48852381  7.00635714]\n",
      " [ 3.00080635 -2.49973844  7.00020667]]\n",
      "\n",
      "Error: [inf, 1.0, 0.12799923828868856, 0.0044863197251520754]\n",
      "\n",
      "Number of iterations: 3\n"
     ]
    }
   ],
   "source": [
    "x_opt, error, iter = jacobi_iteration(A, b, x = None, tol = 0.01)\n",
    "\n",
    "print(f'Optimal solution:\\n{np.array(x_opt)}')\n",
    "print(f'\\nError: {error}')\n",
    "print(f'\\nNumber of iterations: {iter}')"
   ]
  },
  {
   "cell_type": "code",
   "execution_count": 194,
   "metadata": {},
   "outputs": [
    {
     "data": {
      "image/png": "[encoded data removed]",
      "text/plain": [
       "<Figure size 640x480 with 1 Axes>"
      ]
     },
     "metadata": {},
     "output_type": "display_data"
    }
   ],
   "source": [
    "plt.plot(np.arange(0,iter+1), error, color=\"red\", marker=\"o\", )\n",
    "plt.title('Error vs. Iteration')\n",
    "plt.xlabel('Iteration')\n",
    "plt.ylabel('Error')\n",
    "plt.show()"
   ]
  },
  {
   "cell_type": "markdown",
   "metadata": {},
   "source": [
    "## Running Algorithm - Gauss Jordan"
   ]
  },
  {
   "cell_type": "code",
   "execution_count": 195,
   "metadata": {},
   "outputs": [
    {
     "name": "stdout",
     "output_type": "stream",
     "text": [
      "Optimal solution:\n",
      "[ 3.  -2.5  7. ]\n"
     ]
    }
   ],
   "source": [
    "A_copy = A.copy()\n",
    "x_opt = gauss_jordan(A_copy, b)\n",
    "\n",
    "print(f'Optimal solution:\\n{x_opt}')"
   ]
  },
  {
   "cell_type": "markdown",
   "metadata": {},
   "source": [
    "## Running Algorithm - GEPP"
   ]
  },
  {
   "cell_type": "code",
   "execution_count": 196,
   "metadata": {},
   "outputs": [
    {
     "name": "stdout",
     "output_type": "stream",
     "text": [
      "Matrix A before elimination:\n",
      "[[ 3.  -0.1 -0.2]\n",
      " [ 0.1  7.  -0.3]\n",
      " [ 0.3 -0.2 10. ]]\n",
      "\n",
      "Vectors b before elimination:\n",
      "[  7.85 -19.3   71.4 ]\n",
      "\n",
      "Matrix A after elimination:\n",
      "[[ 3.         -0.1        -0.2       ]\n",
      " [ 0.          7.00333333 -0.29333333]\n",
      " [ 0.          0.         10.01204188]]\n",
      "\n",
      "Vectors b after elimination:\n",
      "[  7.85       -19.56166667  70.08429319]\n",
      "\n",
      "Optimal solution:\n",
      "[ 3.  -2.5  7. ]\n"
     ]
    }
   ],
   "source": [
    "A_copy = A.copy()\n",
    "b_copy = b.copy()\n",
    "GaussElimPivot = GEPP(A_copy, b_copy)\n",
    "\n",
    "print(f'Matrix A before elimination:\\n{A}')\n",
    "print(f'\\nVectors b before elimination:\\n{b}')\n",
    "print(f'\\nMatrix A after elimination:\\n{GaussElimPivot.A}')\n",
    "print(f'\\nVectors b after elimination:\\n{GaussElimPivot.b}')\n",
    "print(f'\\nOptimal solution:\\n{GaussElimPivot.x}')"
   ]
  },
  {
   "cell_type": "markdown",
   "metadata": {},
   "source": [
    "## Running Algorithm - Gauss Seidel"
   ]
  },
  {
   "cell_type": "code",
   "execution_count": 197,
   "metadata": {},
   "outputs": [
    {
     "name": "stdout",
     "output_type": "stream",
     "text": [
      "Optimal solution:\n",
      "[[ 0.          0.          0.        ]\n",
      " [ 2.61666667 -2.79452381  7.00560952]\n",
      " [ 2.99055651 -2.49962468  7.00029081]\n",
      " [ 3.0000319  -2.49998799  6.99999928]\n",
      " [ 3.00000035 -2.50000004  6.99999999]]\n",
      "\n",
      "Error: [inf, 1.0, 0.1250234998996312, 0.0031584297423301044, 1.0515145943187923e-05]\n",
      "\n",
      "Number of iterations: 4\n"
     ]
    }
   ],
   "source": [
    "A_copy = A.copy()\n",
    "b_copy = b.copy()\n",
    "x_opt, error, iter = gauss_seidel(A_copy, b_copy, x_init = None, tol = 0.001)\n",
    "\n",
    "print(f'Optimal solution:\\n{np.array(x_opt)}')\n",
    "print(f'\\nError: {error}')\n",
    "print(f'\\nNumber of iterations: {iter}')"
   ]
  },
  {
   "cell_type": "code",
   "execution_count": 198,
   "metadata": {},
   "outputs": [
    {
     "data": {
      "image/png": "[encoded data removed]",
      "text/plain": [
       "<Figure size 640x480 with 1 Axes>"
      ]
     },
     "metadata": {},
     "output_type": "display_data"
    }
   ],
   "source": [
    "plt.plot(np.arange(0,iter+1), error, color=\"red\", marker=\"o\", )\n",
    "plt.title('Error vs. Iteration')\n",
    "plt.xlabel('Iteration')\n",
    "plt.ylabel('Error')\n",
    "plt.show()"
   ]
  },
  {
   "cell_type": "markdown",
   "metadata": {},
   "source": [
    "## Running Algorithm - LU Decomposition"
   ]
  },
  {
   "cell_type": "code",
   "execution_count": 199,
   "metadata": {},
   "outputs": [
    {
     "name": "stdout",
     "output_type": "stream",
     "text": [
      "P:\n",
      "[[1. 0. 0.]\n",
      " [0. 1. 0.]\n",
      " [0. 0. 1.]]\n",
      "\n",
      "L:\n",
      "[[ 1.          0.          0.        ]\n",
      " [ 0.03333333  1.          0.        ]\n",
      " [ 0.1        -0.02712994  1.        ]]\n",
      "\n",
      "U:\n",
      "[[ 3.         -0.1        -0.2       ]\n",
      " [ 0.          7.00333333 -0.29333333]\n",
      " [ 0.          0.         10.01204188]]\n"
     ]
    }
   ],
   "source": [
    "A_copy = A.copy()\n",
    "b_copy = b.copy()\n",
    "P, L, U = scipy.linalg.lu(A_copy)\n",
    "\n",
    "print(f'P:\\n{P}')\n",
    "print(f'\\nL:\\n{L}')\n",
    "print(f'\\nU:\\n{U}')"
   ]
  },
  {
   "cell_type": "markdown",
   "metadata": {},
   "source": [
    "$$\n",
    "A = L \\cdot U\n",
    "$$\n",
    "$$\n",
    "Ax = b \\Rightarrow L \\cdot U \\cdot x = b\n",
    "$$\n",
    "\n",
    "$$\n",
    "U\\cdot x = z \\Rightarrow L \\cdot z = b \\Rightarrow z = L^{-1} \\cdot b \\Rightarrow x = U^{-1} \\cdot L^{-1} \\cdot b\n",
    "$$"
   ]
  },
  {
   "cell_type": "code",
   "execution_count": 201,
   "metadata": {},
   "outputs": [
    {
     "name": "stdout",
     "output_type": "stream",
     "text": [
      "z:\n",
      "[  7.85       -19.56166667  70.08429319]\n",
      "Optimal solution:\n",
      "[ 3.  -2.5  7. ]\n"
     ]
    }
   ],
   "source": [
    "z = np.linalg.solve(L, b_copy)\n",
    "print(f'z:\\n{z}')\n",
    "\n",
    "x_opt = np.linalg.solve(U, z)\n",
    "\n",
    "print(f'Optimal solution:\\n{x_opt}')"
   ]
  }
 ],
 "metadata": {
  "kernelspec": {
   "display_name": "Python 3",
   "language": "python",
   "name": "python3"
  },
  "language_info": {
   "codemirror_mode": {
    "name": "ipython",
    "version": 3
   },
   "file_extension": ".py",
   "mimetype": "text/x-python",
   "name": "python",
   "nbconvert_exporter": "python",
   "pygments_lexer": "ipython3",
   "version": "3.12.5"
  }
 },
 "nbformat": 4,
 "nbformat_minor": 2
}
